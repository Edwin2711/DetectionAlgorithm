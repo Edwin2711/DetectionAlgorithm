{
  "nbformat": 4,
  "nbformat_minor": 0,
  "metadata": {
    "colab": {
      "provenance": [],
      "authorship_tag": "ABX9TyMK8+TiMuWw41dUQHqcpLrU"
    },
    "kernelspec": {
      "name": "python3",
      "display_name": "Python 3"
    },
    "language_info": {
      "name": "python"
    },
    "gpuClass": "standard"
  },
  "cells": [
    {
      "cell_type": "markdown",
      "source": [
        "Reference:https://github.com/noorkhokhar99/Measure-size-of-objects-in-an-image-using-OpenCV"
      ],
      "metadata": {
        "id": "jypDUQu5j2J3"
      }
    },
    {
      "cell_type": "code",
      "execution_count": null,
      "metadata": {
        "id": "uCH6JgVGBAc9"
      },
      "outputs": [],
      "source": [
        "\"\"\"\n",
        "Filename: init.py\n",
        "Usage: This script will measure different objects in the frame using a reference object of known dimension. \n",
        "The object with known dimension must be the leftmost object.\n",
        "\"\"\"\n",
        "from scipy.spatial.distance import euclidean\n",
        "from imutils import perspective\n",
        "from imutils import contours\n",
        "import numpy as np\n",
        "import imutils\n",
        "import cv2\n",
        "from google.colab.patches import cv2_imshow\n",
        "\n",
        "# Function to show array of images (intermediate results)\n",
        "\n",
        "img_path = \"/content/prueba10.jpg\"\n",
        "\n",
        "# Read image and preprocess\n",
        "image = cv2.imread(img_path)\n",
        "\n",
        "gray = cv2.cvtColor(image, cv2.COLOR_BGR2GRAY)\n",
        "blur = cv2.GaussianBlur(gray, (1, 1), 0)\n",
        "cv2_imshow(blur)\n",
        "edged = cv2.Canny(blur, 50, 100)\n",
        "edged = cv2.dilate(edged, None, iterations=1)\n",
        "edged = cv2.erode(edged, None, iterations=1)\n",
        "\n",
        "cv2_imshow(edged)\n"
      ]
    },
    {
      "cell_type": "code",
      "source": [
        "# Find contours\n",
        "cnts = cv2.findContours(edged.copy(), cv2.RETR_EXTERNAL, cv2.CHAIN_APPROX_SIMPLE)\n",
        "cnts = imutils.grab_contours(cnts)\n",
        "\n",
        "# Sort contours from left to right as leftmost contour is reference object\n",
        "(cnts, _) = contours.sort_contours(cnts)\n",
        "\n",
        "# Remove contours which are not large enough\n",
        "cnts = [x for x in cnts if cv2.contourArea(x) > 100]\n",
        "\n",
        "cv2.drawContours(image, cnts, -1, (0,255,0), 3)\n",
        "\n",
        "cv2_imshow(image)\n",
        "print(len(cnts))\n"
      ],
      "metadata": {
        "id": "Aosa9x9wH9di"
      },
      "execution_count": null,
      "outputs": []
    },
    {
      "cell_type": "code",
      "source": [
        "# Reference object dimensions\n",
        "# Here for reference I have used a 2cm x 2cm square\n",
        "ref_object = cnts[0]\n",
        "box = cv2.minAreaRect(ref_object)\n",
        "box = cv2.boxPoints(box)\n",
        "box = np.array(box, dtype=\"int\")\n",
        "box = perspective.order_points(box)\n",
        "(tl, tr, br, bl) = box\n",
        "dist_in_pixel = euclidean(tl, tr)\n",
        "dist_in_cm = 2\n",
        "pixel_per_cm = dist_in_pixel/dist_in_cm\n",
        "\n",
        "# Draw remaining contours\n",
        "for cnt in cnts:\n",
        "\tbox = cv2.minAreaRect(cnt)\n",
        "\tbox = cv2.boxPoints(box)\n",
        "\tbox = np.array(box, dtype=\"int\")\n",
        "\tbox = perspective.order_points(box)\n",
        "\t(tl, tr, br, bl) = box\n",
        "\tcv2.drawContours(image, [box.astype(\"int\")], -1, (0, 0, 255), 2)\n",
        "\tmid_pt_horizontal = (tl[0] + int(abs(tr[0] - tl[0])/2), tl[1] + int(abs(tr[1] - tl[1])/2))\n",
        "\tmid_pt_verticle = (tr[0] + int(abs(tr[0] - br[0])/2), tr[1] + int(abs(tr[1] - br[1])/2))\n",
        "\twid = euclidean(tl, tr)/pixel_per_cm\n",
        "\tht = euclidean(tr, br)/pixel_per_cm\n",
        "\tcv2.putText(image, \"{:.1f}cm\".format(wid), (int(mid_pt_horizontal[0] - 15), int(mid_pt_horizontal[1] - 10)), \n",
        "\t\tcv2.FONT_HERSHEY_SIMPLEX, 0.5, (255, 255, 0), 2)\n",
        "\tcv2.putText(image, \"{:.1f}cm\".format(ht), (int(mid_pt_verticle[0] + 10), int(mid_pt_verticle[1])), \n",
        "\t\tcv2.FONT_HERSHEY_SIMPLEX, 0.5, (255, 255, 0), 2)\n",
        "\n",
        "cv2_imshow(image)\n",
        "print(wid)\n",
        "print(ht)\n",
        "area = wid*ht\n",
        "print(area)\n"
      ],
      "metadata": {
        "id": "Ep-CABv8JNMG"
      },
      "execution_count": null,
      "outputs": []
    }
  ]
}